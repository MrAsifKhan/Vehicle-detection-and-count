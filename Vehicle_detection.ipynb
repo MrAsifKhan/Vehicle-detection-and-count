{
 "cells": [
  {
   "cell_type": "markdown",
   "id": "e63c533e",
   "metadata": {},
   "source": [
    "by Asif Khan Pattan\n"
   ]
  },
  {
   "cell_type": "code",
   "execution_count": 1,
   "id": "5b542fee",
   "metadata": {},
   "outputs": [],
   "source": [
    "#importing Libraries \n",
    "\n",
    "import cv2\n",
    "import numpy as np\n",
    "from matplotlib import pyplot as plt\n",
    "\n",
    "kernal = np.ones((10,10),np.uint8)"
   ]
  },
  {
   "cell_type": "code",
   "execution_count": 2,
   "id": "c9b704e9",
   "metadata": {},
   "outputs": [],
   "source": [
    "#Loading the video file from the local path\n",
    "\n",
    "cap = cv2.VideoCapture('traffic.mp4') "
   ]
  },
  {
   "cell_type": "code",
   "execution_count": 20,
   "id": "dee000f4",
   "metadata": {},
   "outputs": [
    {
     "name": "stdout",
     "output_type": "stream",
     "text": [
      "True\n"
     ]
    },
    {
     "ename": "KeyboardInterrupt",
     "evalue": "",
     "output_type": "error",
     "traceback": [
      "\u001b[1;31m---------------------------------------------------------------------------\u001b[0m",
      "\u001b[1;31mKeyboardInterrupt\u001b[0m                         Traceback (most recent call last)",
      "\u001b[1;32m<ipython-input-20-f9acce4c8011>\u001b[0m in \u001b[0;36m<module>\u001b[1;34m\u001b[0m\n\u001b[0;32m     15\u001b[0m \u001b[1;33m\u001b[0m\u001b[0m\n\u001b[0;32m     16\u001b[0m     \u001b[0mCars_detect\u001b[0m\u001b[1;33m=\u001b[0m\u001b[0mcar_cascade\u001b[0m\u001b[1;33m.\u001b[0m\u001b[0mdetectMultiScale\u001b[0m\u001b[1;33m(\u001b[0m\u001b[0mframe_dilated\u001b[0m\u001b[1;33m,\u001b[0m\u001b[1;36m1.1\u001b[0m\u001b[1;33m,\u001b[0m\u001b[1;36m1\u001b[0m\u001b[1;33m)\u001b[0m\u001b[1;33m\u001b[0m\u001b[0m\n\u001b[1;32m---> 17\u001b[1;33m     \u001b[0mBus_detect\u001b[0m\u001b[1;33m=\u001b[0m\u001b[0mbus_cascade\u001b[0m\u001b[1;33m.\u001b[0m\u001b[0mdetectMultiScale\u001b[0m\u001b[1;33m(\u001b[0m\u001b[0mframe_dilated\u001b[0m\u001b[1;33m,\u001b[0m\u001b[1;36m1.1\u001b[0m\u001b[1;33m,\u001b[0m\u001b[1;36m1\u001b[0m\u001b[1;33m)\u001b[0m\u001b[1;33m\u001b[0m\u001b[0m\n\u001b[0m\u001b[0;32m     18\u001b[0m \u001b[1;33m\u001b[0m\u001b[0m\n\u001b[0;32m     19\u001b[0m     \u001b[1;31m#Drawing rectangles around the Detected objects\u001b[0m\u001b[1;33m\u001b[0m\u001b[1;33m\u001b[0m\u001b[0m\n",
      "\u001b[1;31mKeyboardInterrupt\u001b[0m: "
     ]
    }
   ],
   "source": [
    "print(cap.isOpened())          #to check if cap is opened \n",
    "while (cap.isOpened()):\n",
    "    retL, frame = cap.read()                         #Reading frames from loaded video file\n",
    "    \n",
    "    #Preprocessing image for better object identification by blurring the smaller details.\n",
    "    \n",
    "    frame_gray=cv2.cvtColor(frame,cv2.COLOR_BGR2GRAY)\n",
    "    frame_blurred=cv2.GaussianBlur(frame_gray, (11,11),0) \n",
    "    frame_dilated=cv2.dilate(frame_blurred,kernal)\n",
    "    \n",
    "    #Using Car and Bus cascade classifiers \n",
    "    \n",
    "    car_cascade=cv2.CascadeClassifier('cars.xml')\n",
    "    bus_cascade=cv2.CascadeClassifier('bus.xml')\n",
    "    \n",
    "    Cars_detect=car_cascade.detectMultiScale(frame_dilated,1.1,1)\n",
    "    Bus_detect=bus_cascade.detectMultiScale(frame_dilated,1.1,1)\n",
    "    \n",
    "    #Drawing rectangles around the Detected objects\n",
    "    Car_count=0\n",
    "    Bus_count=0\n",
    "    for (x,y,w,h) in Cars_detect:\n",
    "        cv2.rectangle(frame,(x,y),(x+w,y+h),(0,255,0),2)                      #Cars are detected with Green Rectangles\n",
    "        Car_count+=1\n",
    "    for (x1,y1,w1,h1) in Bus_detect:\n",
    "        cv2.rectangle(frame,(x1,y1),(x1+w1,y1+h1),(255,0,0),2)                #Buses are detected with Blue Rectangles\n",
    "        Bus_count+=1\n",
    "    cv2.putText(frame,'Cars: '+ str(Car_count), (50,50), cv2.FONT_HERSHEY_SIMPLEX, fontScale = 1, color = (0, 255, 0), thickness = 2)\n",
    "    cv2.putText(frame,'Buses: '+ str(Bus_count), (50,80), cv2.FONT_HERSHEY_SIMPLEX, fontScale = 1, color = (255, 0, 0), thickness = 2)\n",
    "    \n",
    "    #Displaying the final image/frame\n",
    "    \n",
    "    cv2.imshow('frame',frame)\n",
    "    cv2.waitKey(100)                                                          #waiting for 100ms between frames.\n",
    "\n",
    "    ##THANKYOU"
   ]
  },
  {
   "cell_type": "code",
   "execution_count": null,
   "id": "5435e728",
   "metadata": {},
   "outputs": [],
   "source": []
  },
  {
   "cell_type": "code",
   "execution_count": null,
   "id": "8a4cbe26",
   "metadata": {},
   "outputs": [],
   "source": []
  }
 ],
 "metadata": {
  "kernelspec": {
   "display_name": "Python 3",
   "language": "python",
   "name": "python3"
  },
  "language_info": {
   "codemirror_mode": {
    "name": "ipython",
    "version": 3
   },
   "file_extension": ".py",
   "mimetype": "text/x-python",
   "name": "python",
   "nbconvert_exporter": "python",
   "pygments_lexer": "ipython3",
   "version": "3.6.4"
  }
 },
 "nbformat": 4,
 "nbformat_minor": 5
}
